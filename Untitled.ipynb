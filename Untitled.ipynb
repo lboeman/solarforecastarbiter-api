{
 "cells": [
  {
   "cell_type": "code",
   "execution_count": 3,
   "metadata": {},
   "outputs": [],
   "source": [
    "import requests"
   ]
  },
  {
   "cell_type": "code",
   "execution_count": 76,
   "metadata": {
    "collapsed": true
   },
   "outputs": [
    {
     "name": "stdout",
     "output_type": "stream",
     "text": [
      "b'timestamp,value,quality_flag\\n2019-06-21T12:00:00Z,5,0\\n2019-06-21T12:00:01Z,,1\\n2019-06-21T12:00:02Z,5,0\\n2019-06-21T12:00:03Z,NaN,1\\n2019-06-21T12:00:04Z,NULL,1\\n2019-06-21T12:00:05Z,-999,1\\n2019-06-21T12:00:06Z,-9999,1\\n'\n"
     ]
    }
   ],
   "source": [
    "with open(filename, 'rb') as f:\n",
    "    print(f.read())"
   ]
  },
  {
   "cell_type": "code",
   "execution_count": 6,
   "metadata": {},
   "outputs": [],
   "source": [
    "req = requests.Request('POST', 'http://localhost:5000/observations/5e2cd614-9454-11e9-9afb-54bf64606445/values')"
   ]
  },
  {
   "cell_type": "code",
   "execution_count": 8,
   "metadata": {
    "collapsed": true
   },
   "outputs": [
    {
     "ename": "AttributeError",
     "evalue": "'Request' object has no attribute 'code'",
     "output_type": "error",
     "traceback": [
      "\u001b[0;31m---------------------------------------------------------------------------\u001b[0m",
      "\u001b[0;31mAttributeError\u001b[0m                            Traceback (most recent call last)",
      "\u001b[0;32m<ipython-input-8-c4c6c12944b5>\u001b[0m in \u001b[0;36m<module>\u001b[0;34m\u001b[0m\n\u001b[0;32m----> 1\u001b[0;31m \u001b[0mreq\u001b[0m\u001b[0;34m.\u001b[0m\u001b[0mcode\u001b[0m\u001b[0;34m\u001b[0m\u001b[0;34m\u001b[0m\u001b[0m\n\u001b[0m",
      "\u001b[0;31mAttributeError\u001b[0m: 'Request' object has no attribute 'code'"
     ]
    }
   ],
   "source": [
    "req.code"
   ]
  },
  {
   "cell_type": "code",
   "execution_count": 133,
   "metadata": {},
   "outputs": [],
   "source": [
    "def auth_token():\n",
    "    token_req = requests.post(\n",
    "        'https://solarforecastarbiter.auth0.com/oauth/token',\n",
    "        headers={'content-type': 'application/json'},\n",
    "        data=('{\"grant_type\": \"password\", '\n",
    "              '\"username\": \"testing@solarforecastarbiter.org\",'\n",
    "              '\"password\": \"Thepassword123!\", '\n",
    "              '\"audience\": \"https://api.solarforecastarbiter.org\", '\n",
    "              '\"client_id\": \"c16EJo48lbTCQEhqSztGGlmxxxmZ4zX7\"}'))\n",
    "    token = token_req.json()['access_token']\n",
    "    return token"
   ]
  },
  {
   "cell_type": "code",
   "execution_count": 136,
   "metadata": {},
   "outputs": [],
   "source": [
    "token = auth_token()"
   ]
  },
  {
   "cell_type": "code",
   "execution_count": 139,
   "metadata": {},
   "outputs": [],
   "source": [
    "base_header = {'Authorization': f'Bearer {token}'}"
   ]
  },
  {
   "cell_type": "code",
   "execution_count": 140,
   "metadata": {},
   "outputs": [],
   "source": [
    "files2 = {'obsdata.csv': open(filename, 'rb')}"
   ]
  },
  {
   "cell_type": "code",
   "execution_count": 141,
   "metadata": {},
   "outputs": [],
   "source": [
    "filename = '/home/leland/Downloads/testobsxls.xls'\n",
    "files = {'testobsxls.xls': ('testobsxls.xls', open(filename, 'rb'), 'application/vnd.ms-excel')}\n",
    "r = requests.post('http://localhost:5000/observations/5e2cd614-9454-11e9-9afb-54bf64606445/values', headers=base_header, files=files)"
   ]
  },
  {
   "cell_type": "code",
   "execution_count": 104,
   "metadata": {
    "collapsed": true
   },
   "outputs": [
    {
     "data": {
      "text/plain": [
       "'{\\n  \"errors\": {\\n    \"error\": [\\n      {\\n        \"encoding\": [\\n          \"File could not be decoded as UTF-8.\"\\n        ]\\n      }\\n    ]\\n  }\\n}\\n'"
      ]
     },
     "execution_count": 104,
     "metadata": {},
     "output_type": "execute_result"
    }
   ],
   "source": [
    "r.text"
   ]
  },
  {
   "cell_type": "code",
   "execution_count": 108,
   "metadata": {},
   "outputs": [],
   "source": [
    "thingbytes = bytes('tacotacotaco', 'utf-8')"
   ]
  },
  {
   "cell_type": "code",
   "execution_count": 109,
   "metadata": {
    "collapsed": true
   },
   "outputs": [
    {
     "data": {
      "text/plain": [
       "<_io.BytesIO at 0x7fc378117620>"
      ]
     },
     "execution_count": 109,
     "metadata": {},
     "output_type": "execute_result"
    }
   ],
   "source": [
    "BytesIO(thingbytes)"
   ]
  },
  {
   "cell_type": "code",
   "execution_count": 132,
   "metadata": {},
   "outputs": [],
   "source": [
    "new_header = base_header.copy()\n",
    "new_header.update({'Content-Type': 'application/json'})\n",
    "data = \"/\\fsa/d\\f\\\\agfd\"\n",
    "resp = requests.post('http://localhost:5000/observations/5e2cd614-9454-11e9-9afb-54bf64606445/values',\n",
    "                     headers=new_header, data=data)"
   ]
  },
  {
   "cell_type": "code",
   "execution_count": 130,
   "metadata": {},
   "outputs": [
    {
     "data": {
      "text/plain": [
       "<Response [400]>"
      ]
     },
     "execution_count": 130,
     "metadata": {},
     "output_type": "execute_result"
    }
   ],
   "source": [
    "resp"
   ]
  },
  {
   "cell_type": "code",
   "execution_count": 131,
   "metadata": {
    "collapsed": true
   },
   "outputs": [
    {
     "data": {
      "text/plain": [
       "'<!DOCTYPE HTML PUBLIC \"-//W3C//DTD HTML 3.2 Final//EN\">\\n<title>400 Bad Request</title>\\n<h1>Bad Request</h1>\\n<p>Failed to decode JSON object: Expecting value: line 1 column 1 (char 0)</p>\\n'"
      ]
     },
     "execution_count": 131,
     "metadata": {},
     "output_type": "execute_result"
    }
   ],
   "source": [
    "resp.text"
   ]
  },
  {
   "cell_type": "code",
   "execution_count": 156,
   "metadata": {},
   "outputs": [],
   "source": [
    "resp = requests.get('http://localhost:5000/observations/5e2cd614-9454-11e9-9afb-54bf64606445/values',\n",
    "                    headers=base_header, params={'start': 'NaT', 'end': 'NaT'})"
   ]
  },
  {
   "cell_type": "code",
   "execution_count": 157,
   "metadata": {},
   "outputs": [
    {
     "data": {
      "text/plain": [
       "<Response [400]>"
      ]
     },
     "execution_count": 157,
     "metadata": {},
     "output_type": "execute_result"
    }
   ],
   "source": [
    "resp"
   ]
  },
  {
   "cell_type": "code",
   "execution_count": 160,
   "metadata": {
    "collapsed": true
   },
   "outputs": [
    {
     "data": {
      "text/plain": [
       "'{\\n  \"errors\": {\\n    \"end\": [\\n      \"Invalid end date format\"\\n    ], \\n    \"start\": [\\n      \"Invalid start date format\"\\n    ]\\n  }\\n}\\n'"
      ]
     },
     "execution_count": 160,
     "metadata": {},
     "output_type": "execute_result"
    }
   ],
   "source": [
    "resp.text"
   ]
  },
  {
   "cell_type": "code",
   "execution_count": 147,
   "metadata": {},
   "outputs": [],
   "source": [
    "import pandas as pd"
   ]
  },
  {
   "cell_type": "code",
   "execution_count": 148,
   "metadata": {
    "scrolled": true
   },
   "outputs": [
    {
     "data": {
      "text/plain": [
       "NaT"
      ]
     },
     "execution_count": 148,
     "metadata": {},
     "output_type": "execute_result"
    }
   ],
   "source": [
    "pd.Timestamp('NaT')"
   ]
  },
  {
   "cell_type": "code",
   "execution_count": 150,
   "metadata": {},
   "outputs": [
    {
     "data": {
      "text/plain": [
       "True"
      ]
     },
     "execution_count": 150,
     "metadata": {},
     "output_type": "execute_result"
    }
   ],
   "source": [
    "pd.isnull(pd.Timestamp('NaT'))"
   ]
  }
 ],
 "metadata": {
  "kernelspec": {
   "display_name": "Python 3",
   "language": "python",
   "name": "python3"
  },
  "language_info": {
   "codemirror_mode": {
    "name": "ipython",
    "version": 3
   },
   "file_extension": ".py",
   "mimetype": "text/x-python",
   "name": "python",
   "nbconvert_exporter": "python",
   "pygments_lexer": "ipython3",
   "version": "3.7.1"
  }
 },
 "nbformat": 4,
 "nbformat_minor": 2
}
